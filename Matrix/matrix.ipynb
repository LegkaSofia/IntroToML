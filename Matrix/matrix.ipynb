{
 "cells": [
  {
   "cell_type": "code",
   "execution_count": 1,
   "metadata": {},
   "outputs": [],
   "source": [
    "def print_matrix(matrix):\n",
    "    for i in range(size):\n",
    "        for j in range(size):\n",
    "            print(matrix[i][j], end=' ')\n",
    "        print()\n",
    "\n"
   ]
  },
  {
   "cell_type": "code",
   "execution_count": 2,
   "metadata": {},
   "outputs": [],
   "source": [
    "def multiple(left_matrix, right_matrix):\n",
    "    result = [[0 for j in range(size)] for i in range(size)]\n",
    "    for i in range(size):\n",
    "        for j in range(size):\n",
    "            sum = 0\n",
    "            for r in range(size):\n",
    "                sum += left_matrix[i][r] * right_matrix[r][j]\n",
    "            result[i][j] = sum\n",
    "    return result\n"
   ]
  },
  {
   "cell_type": "code",
   "execution_count": 5,
   "metadata": {},
   "outputs": [
    {
     "name": "stdout",
     "output_type": "stream",
     "text": [
      "Time: 4.615357875823975\n"
     ]
    }
   ],
   "source": [
    "import time\n",
    "import numpy\n",
    "size = 200\n",
    "\n",
    "A = [[1 for j in range(size)] for i in range(size)]\n",
    "B = [[1 for j in range(size)] for i in range(size)]\n",
    "\n",
    "\n",
    "def main():\n",
    "\n",
    "    nA = numpy.ones((size, size))\n",
    "    nB = numpy.ones((size, size))\n",
    "    start = time.time()\n",
    "\n",
    "    #nC = nA.dot(nB)\n",
    "    c = multiple(A, B)\n",
    "\n",
    "    #print(nC)\n",
    "    print(f\"Time: {time.time() - start}\")\n",
    "\n",
    "    #c = multiple(A, B)\n",
    "#    print_matrix(c)\n",
    "\n",
    "\n",
    "main()"
   ]
  },
  {
   "cell_type": "code",
   "execution_count": null,
   "metadata": {},
   "outputs": [],
   "source": []
  }
 ],
 "metadata": {
  "kernelspec": {
   "display_name": "Python 3",
   "language": "python",
   "name": "python3"
  },
  "language_info": {
   "codemirror_mode": {
    "name": "ipython",
    "version": 3
   },
   "file_extension": ".py",
   "mimetype": "text/x-python",
   "name": "python",
   "nbconvert_exporter": "python",
   "pygments_lexer": "ipython3",
   "version": "3.7.4"
  }
 },
 "nbformat": 4,
 "nbformat_minor": 2
}
