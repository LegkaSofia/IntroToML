{
 "cells": [
  {
   "cell_type": "markdown",
   "metadata": {},
   "source": [
    "В цій практичній роботі ми спробуємо реалізувати нейронну мережу з двох шарів (прихований і вихідний). Запропонований підхід стане заготовкою для реалізації наступних оптимізацій: MBGD, ADAM та регуляризації. \n",
    "\n",
    "Сьогодні ж вам пропонується додати до цього класу підтримку довільної кількості шарів та нейронів в них (наприклад, передавати їх параметром в конструктор, як це робиться в MLPClassifier за допомогою hidden_layer_sizes). Також потрібно передбачити можливість ранньої зупинки ітераційного процесу, якщо значення штрафної функції не покращуватиметься протягом певної кількості ітерацій. Наприклад, якщо протягом $k$ ітерацій штрафна функція за модулем не стане меншою, ніж на поточному кроці."
   ]
  },
  {
   "cell_type": "code",
   "execution_count": 3,
   "metadata": {},
   "outputs": [],
   "source": [
    "import numpy as np\n",
    "import pandas as pd\n",
    "from sklearn.model_selection import train_test_split\n",
    "from mpl_toolkits.mplot3d import Axes3D\n",
    "import matplotlib.pyplot as plt\n",
    "\n",
    "from matplotlib.colors import ListedColormap\n",
    "cm_bright = ListedColormap(['#FF0000', '#0000FF'])\n",
    "%matplotlib inline\n",
    "from sklearn.metrics import accuracy_score\n",
    "\n",
    "import sklearn.linear_model"
   ]
  },
  {
   "cell_type": "code",
   "execution_count": 4,
   "metadata": {},
   "outputs": [],
   "source": [
    "def plot_surface(cls, x_1, x_2, ax=None, threshold=0.5, contourf=False):\n",
    "    xx1, xx2 = np.meshgrid(np.linspace(x_1.min(), x_1.max(), 100), \n",
    "                           np.linspace(x_2.min(), x_2.max(), 100))\n",
    "\n",
    "    X_pred = np.c_[xx1.ravel(), xx2.ravel()]\n",
    "    pred = cls.predict_proba(X_pred)[:, 0]\n",
    "    Z = pred.reshape((100, 100))\n",
    "    if ax is None:\n",
    "        ax = plt.gca()\n",
    "    ax.contour(xx1, xx2, Z, levels=[threshold], colors='black')\n",
    "    ax.set_xlim((x_1.min(), x_1.max()))\n",
    "    ax.set_ylim((x_2.min(), x_2.max()))"
   ]
  },
  {
   "cell_type": "code",
   "execution_count": 5,
   "metadata": {},
   "outputs": [],
   "source": [
    "def plot_data(X, y):\n",
    "    ax = plt.gca()\n",
    "    ax.scatter(X[:,0], X[:,1], c=(y == 1), cmap=cm_bright)"
   ]
  },
  {
   "cell_type": "code",
   "execution_count": 6,
   "metadata": {},
   "outputs": [],
   "source": [
    "class NeuralNet:\n",
    "    def __init__(self,hidden_layer, normalize = True, learning_rate = 0.01, num_iter = 30000):\n",
    "        self.hidden_layer = hidden_layer\n",
    "        self.learning_rate = learning_rate\n",
    "        self.num_iter = num_iter\n",
    "        self.normalize = normalize\n",
    "    \n",
    "    def __normalize(self, X, mean = None, std = None):\n",
    "        n = X.shape[0]\n",
    "        m = mean\n",
    "        if m is None:\n",
    "            m = np.mean(X, axis=1).reshape((n, 1))\n",
    "        s = std\n",
    "        if s is None:\n",
    "            s = np.std(X, axis=1).reshape((n, 1))\n",
    "        X_new = (X - m) / s**2\n",
    "        return X_new, m, s\n",
    "\n",
    "    def __sigmoid(self, Z):\n",
    "        \"\"\"\n",
    "        В наступних практичних потрібно буде додати підтримку й інших активаційних функцій - це один з гіперпараметрів. \n",
    "        Їх можна вибирати для всіх шарів одночасно або мати різні активаційні функції на кожному з них.\n",
    "        \"\"\"\n",
    "        return 1 / (1 + np.exp(-Z))\n",
    "    \n",
    "    def __initialize_parameters(self, n_x):\n",
    "        self.parameters = {}\n",
    "        l = len(n_x)\n",
    "        \n",
    "        for i in range(1, l):\n",
    "            W = np.random.randn(n_x[i], n_x[i - 1]) * 0.01\n",
    "            b = np.zeros((n_x[i], 1))\n",
    "            self.parameters.update({f\"W{i}\": W, f\"b{i}\": b})\n",
    "\n",
    "        W = np.random.randn(1, n_x[l-1]) * 0.01\n",
    "        b = 0\n",
    "        \n",
    "        self.parameters.update({f\"W{l}\":W, f\"b{l}\":b})\n",
    "        \n",
    "    def __forward_propagation(self, X):\n",
    "        layers_count = len(self.hidden_layer)\n",
    "        cache = self.parameters.copy()\n",
    "        \n",
    "        A = X\n",
    "        for i in range(1, layers_count + 2):\n",
    "            W = self.parameters[f\"W{i}\"]\n",
    "            b = self.parameters[f\"b{i}\"]\n",
    "            Z = np.dot(W, A) + b\n",
    "            A = self.__sigmoid(Z)\n",
    "            cache.update({f\"Z{i}\": Z})\n",
    "            cache.update({f\"A{i}\": A})\n",
    "        return A, cache\n",
    "    \n",
    "    def compute_cost(self, A, Y):\n",
    "        m = Y.shape[1]\n",
    "        res = Y * np.log(A) + (1 - Y) * np.log(1 - A)\n",
    "        J = -(1 / m) * np.sum(res)\n",
    "        return J\n",
    "        \n",
    "    def __backward_propagation(self, X, Y, cache):\n",
    "        m = X.shape[1]\n",
    "        n = X.shape[0]\n",
    "        layers_count = len(self.hidden_layer)\n",
    "        \n",
    "        grads = {}\n",
    "        A = cache[f\"A{layers_count+1}\"]\n",
    "        A_next = cache[f\"A{layers_count}\"]\n",
    "                \n",
    "        dZ = A - Y\n",
    "        dW = 1. / m * np.dot(dZ, A_next.T)\n",
    "        db = 1. / m * np.sum(dZ, axis = 1, keepdims = True)\n",
    "        grads.update({f\"dZ{layers_count+1}\":dZ, f\"dW{layers_count+1}\":dW, f\"db{layers_count+1}\":db})\n",
    "        for i in range(layers_count, 0, -1):\n",
    "            W = cache[f\"W{i}\"]\n",
    "            b = cache[f\"b{i}\"]\n",
    "            Z = cache[f\"Z{i}\"]\n",
    "                \n",
    "            if (i == 1):\n",
    "                W_prev = cache[f\"W{i + 1}\"]\n",
    "                A = cache[f\"A{i}\"]\n",
    "                dA = np.dot(W_prev.T, dZ)\n",
    "\n",
    "                dZ = np.multiply(dA, np.multiply(A, 1 - A))\n",
    "                dW = 1. / m * np.dot(dZ, X.T)\n",
    "                db = 1. / m * np.sum(dZ, axis = 1, keepdims = True)\n",
    "            else:\n",
    "                W_prev = cache[f\"W{i + 1}\"]\n",
    "                A = cache[f\"A{i}\"]\n",
    "                A_next = cache[f\"A{i - 1}\"]\n",
    "\n",
    "                dA = np.dot(W_prev.T, dZ)\n",
    "                dZ = np.multiply(dA, np.multiply(A, 1 - A))\n",
    "                dW = 1. / m * np.dot(dZ, A_next.T)\n",
    "                db = 1. / m * np.sum(dZ, axis = 1, keepdims = True)\n",
    "            grads.update({f\"dZ{i}\":dZ, f\"dW{i}\":dW, f\"db{i}\":db})\n",
    "        return grads\n",
    "    \n",
    "    def __update_parameters(self, grads):\n",
    "        layers_count = len(self.hidden_layer)\n",
    "        \n",
    "        for i in range(1, layers_count + 2):\n",
    "            W = self.parameters[f\"W{i}\"]\n",
    "            b = self.parameters[f\"b{i}\"]\n",
    "            \n",
    "            dW = grads[f\"dW{i}\"]\n",
    "            db = grads[f\"db{i}\"]\n",
    "            \n",
    "            self.parameters[f\"W{i}\"] = W - self.learning_rate * dW\n",
    "            self.parameters[f\"b{i}\"] = b - self.learning_rate * db\n",
    "\n",
    "        \n",
    "    def fit(self, X_vert, Y_vert, epsilon,print_cost = True):\n",
    "        X, Y = X_vert.T, Y_vert.T\n",
    "        \n",
    "        if self.normalize:\n",
    "            X, self.__mean, self.__std = self.__normalize(X)\n",
    "        \n",
    "        costs = []\n",
    "        \n",
    "        m = X.shape[1]\n",
    "        n_x = (X.shape[0],) + self.hidden_layer\n",
    "        \n",
    "        self.__initialize_parameters(n_x)\n",
    "        for i in range(self.num_iter):\n",
    "            A, cache = self.__forward_propagation(X)\n",
    "\n",
    "            cost = self.compute_cost(A, Y)\n",
    "\n",
    "            grads = self.__backward_propagation(X, Y, cache)\n",
    "\n",
    "            self.__update_parameters(grads)\n",
    "\n",
    "            if print_cost and i % 1000 == 0:\n",
    "                print(\"{}-th iteration: {}\".format(i, cost))\n",
    "            costs.append(cost)\n",
    "            \n",
    "            # break condition\n",
    "            if i > 1 and abs(costs[-2] - costs[-1]) < epsilon:\n",
    "                break\n",
    "                \n",
    "        if print_cost:\n",
    "            plt.plot(costs)\n",
    "            plt.ylabel(\"Cost\")\n",
    "            plt.xlabel(\"Iteration, *1000\")\n",
    "            plt.show()\n",
    "    \n",
    "    def predict_proba(self, X_vert):\n",
    "        X = X_vert.T\n",
    "        if self.normalize:\n",
    "            X, _, _ = self.__normalize(X, self.__mean, self.__std)\n",
    "        \n",
    "        probs = self.__forward_propagation(X)[0]\n",
    "        print(probs)\n",
    "        return np.column_stack((probs.T, 1 - probs.T))\n",
    "    \n",
    "    def predict(self, X_vert):\n",
    "        positive_probs = self.predict_proba(X_vert)[:, 0]\n",
    "        return (positive_probs >= 0.5).astype(int)"
   ]
  },
  {
   "cell_type": "markdown",
   "metadata": {},
   "source": [
    "Спочатку спробуйте цей клас на одній задачі, а потім на іншій."
   ]
  },
  {
   "cell_type": "code",
   "execution_count": 7,
   "metadata": {},
   "outputs": [],
   "source": [
    "#data_columns = [\"exam1\", \"exam2\"]\n",
    "#target_column = \"submitted\"\n",
    "#df = pd.read_csv(\"sats.csv\")\n",
    "#X, Y = df[data_columns].values, df[target_column].reshape((df.shape[0], 1))\n",
    "#print('Training set: X={}, y={}'.format(X.shape, Y.shape))"
   ]
  },
  {
   "cell_type": "code",
   "execution_count": 8,
   "metadata": {},
   "outputs": [
    {
     "ename": "FileNotFoundError",
     "evalue": "[Errno 2] File b'tests.csv' does not exist: b'tests.csv'",
     "output_type": "error",
     "traceback": [
      "\u001b[1;31m---------------------------------------------------------------------------\u001b[0m",
      "\u001b[1;31mFileNotFoundError\u001b[0m                         Traceback (most recent call last)",
      "\u001b[1;32m<ipython-input-8-276ee258047c>\u001b[0m in \u001b[0;36m<module>\u001b[1;34m\u001b[0m\n\u001b[0;32m      1\u001b[0m \u001b[0mdata_columns\u001b[0m \u001b[1;33m=\u001b[0m \u001b[1;33m[\u001b[0m\u001b[1;34m\"test1\"\u001b[0m\u001b[1;33m,\u001b[0m \u001b[1;34m\"test2\"\u001b[0m\u001b[1;33m]\u001b[0m\u001b[1;33m\u001b[0m\u001b[1;33m\u001b[0m\u001b[0m\n\u001b[0;32m      2\u001b[0m \u001b[0mtarget_column\u001b[0m \u001b[1;33m=\u001b[0m \u001b[1;34m\"passed\"\u001b[0m\u001b[1;33m\u001b[0m\u001b[1;33m\u001b[0m\u001b[0m\n\u001b[1;32m----> 3\u001b[1;33m \u001b[0mdf\u001b[0m \u001b[1;33m=\u001b[0m \u001b[0mpd\u001b[0m\u001b[1;33m.\u001b[0m\u001b[0mread_csv\u001b[0m\u001b[1;33m(\u001b[0m\u001b[1;34m\"tests.csv\"\u001b[0m\u001b[1;33m)\u001b[0m\u001b[1;33m\u001b[0m\u001b[1;33m\u001b[0m\u001b[0m\n\u001b[0m\u001b[0;32m      4\u001b[0m \u001b[0mX\u001b[0m\u001b[1;33m,\u001b[0m \u001b[0mY\u001b[0m \u001b[1;33m=\u001b[0m \u001b[0mdf\u001b[0m\u001b[1;33m[\u001b[0m\u001b[0mdata_columns\u001b[0m\u001b[1;33m]\u001b[0m\u001b[1;33m.\u001b[0m\u001b[0mvalues\u001b[0m\u001b[1;33m,\u001b[0m \u001b[0mdf\u001b[0m\u001b[1;33m[\u001b[0m\u001b[0mtarget_column\u001b[0m\u001b[1;33m]\u001b[0m\u001b[1;33m\u001b[0m\u001b[1;33m\u001b[0m\u001b[0m\n\u001b[0;32m      5\u001b[0m \u001b[0mprint\u001b[0m\u001b[1;33m(\u001b[0m\u001b[1;34m'Training set: X={}, y={}'\u001b[0m\u001b[1;33m.\u001b[0m\u001b[0mformat\u001b[0m\u001b[1;33m(\u001b[0m\u001b[0mX\u001b[0m\u001b[1;33m.\u001b[0m\u001b[0mshape\u001b[0m\u001b[1;33m,\u001b[0m \u001b[0mY\u001b[0m\u001b[1;33m.\u001b[0m\u001b[0mshape\u001b[0m\u001b[1;33m)\u001b[0m\u001b[1;33m)\u001b[0m\u001b[1;33m\u001b[0m\u001b[1;33m\u001b[0m\u001b[0m\n",
      "\u001b[1;32m~\\Anaconda3\\lib\\site-packages\\pandas\\io\\parsers.py\u001b[0m in \u001b[0;36mparser_f\u001b[1;34m(filepath_or_buffer, sep, delimiter, header, names, index_col, usecols, squeeze, prefix, mangle_dupe_cols, dtype, engine, converters, true_values, false_values, skipinitialspace, skiprows, skipfooter, nrows, na_values, keep_default_na, na_filter, verbose, skip_blank_lines, parse_dates, infer_datetime_format, keep_date_col, date_parser, dayfirst, cache_dates, iterator, chunksize, compression, thousands, decimal, lineterminator, quotechar, quoting, doublequote, escapechar, comment, encoding, dialect, error_bad_lines, warn_bad_lines, delim_whitespace, low_memory, memory_map, float_precision)\u001b[0m\n\u001b[0;32m    683\u001b[0m         )\n\u001b[0;32m    684\u001b[0m \u001b[1;33m\u001b[0m\u001b[0m\n\u001b[1;32m--> 685\u001b[1;33m         \u001b[1;32mreturn\u001b[0m \u001b[0m_read\u001b[0m\u001b[1;33m(\u001b[0m\u001b[0mfilepath_or_buffer\u001b[0m\u001b[1;33m,\u001b[0m \u001b[0mkwds\u001b[0m\u001b[1;33m)\u001b[0m\u001b[1;33m\u001b[0m\u001b[1;33m\u001b[0m\u001b[0m\n\u001b[0m\u001b[0;32m    686\u001b[0m \u001b[1;33m\u001b[0m\u001b[0m\n\u001b[0;32m    687\u001b[0m     \u001b[0mparser_f\u001b[0m\u001b[1;33m.\u001b[0m\u001b[0m__name__\u001b[0m \u001b[1;33m=\u001b[0m \u001b[0mname\u001b[0m\u001b[1;33m\u001b[0m\u001b[1;33m\u001b[0m\u001b[0m\n",
      "\u001b[1;32m~\\Anaconda3\\lib\\site-packages\\pandas\\io\\parsers.py\u001b[0m in \u001b[0;36m_read\u001b[1;34m(filepath_or_buffer, kwds)\u001b[0m\n\u001b[0;32m    455\u001b[0m \u001b[1;33m\u001b[0m\u001b[0m\n\u001b[0;32m    456\u001b[0m     \u001b[1;31m# Create the parser.\u001b[0m\u001b[1;33m\u001b[0m\u001b[1;33m\u001b[0m\u001b[1;33m\u001b[0m\u001b[0m\n\u001b[1;32m--> 457\u001b[1;33m     \u001b[0mparser\u001b[0m \u001b[1;33m=\u001b[0m \u001b[0mTextFileReader\u001b[0m\u001b[1;33m(\u001b[0m\u001b[0mfp_or_buf\u001b[0m\u001b[1;33m,\u001b[0m \u001b[1;33m**\u001b[0m\u001b[0mkwds\u001b[0m\u001b[1;33m)\u001b[0m\u001b[1;33m\u001b[0m\u001b[1;33m\u001b[0m\u001b[0m\n\u001b[0m\u001b[0;32m    458\u001b[0m \u001b[1;33m\u001b[0m\u001b[0m\n\u001b[0;32m    459\u001b[0m     \u001b[1;32mif\u001b[0m \u001b[0mchunksize\u001b[0m \u001b[1;32mor\u001b[0m \u001b[0miterator\u001b[0m\u001b[1;33m:\u001b[0m\u001b[1;33m\u001b[0m\u001b[1;33m\u001b[0m\u001b[0m\n",
      "\u001b[1;32m~\\Anaconda3\\lib\\site-packages\\pandas\\io\\parsers.py\u001b[0m in \u001b[0;36m__init__\u001b[1;34m(self, f, engine, **kwds)\u001b[0m\n\u001b[0;32m    893\u001b[0m             \u001b[0mself\u001b[0m\u001b[1;33m.\u001b[0m\u001b[0moptions\u001b[0m\u001b[1;33m[\u001b[0m\u001b[1;34m\"has_index_names\"\u001b[0m\u001b[1;33m]\u001b[0m \u001b[1;33m=\u001b[0m \u001b[0mkwds\u001b[0m\u001b[1;33m[\u001b[0m\u001b[1;34m\"has_index_names\"\u001b[0m\u001b[1;33m]\u001b[0m\u001b[1;33m\u001b[0m\u001b[1;33m\u001b[0m\u001b[0m\n\u001b[0;32m    894\u001b[0m \u001b[1;33m\u001b[0m\u001b[0m\n\u001b[1;32m--> 895\u001b[1;33m         \u001b[0mself\u001b[0m\u001b[1;33m.\u001b[0m\u001b[0m_make_engine\u001b[0m\u001b[1;33m(\u001b[0m\u001b[0mself\u001b[0m\u001b[1;33m.\u001b[0m\u001b[0mengine\u001b[0m\u001b[1;33m)\u001b[0m\u001b[1;33m\u001b[0m\u001b[1;33m\u001b[0m\u001b[0m\n\u001b[0m\u001b[0;32m    896\u001b[0m \u001b[1;33m\u001b[0m\u001b[0m\n\u001b[0;32m    897\u001b[0m     \u001b[1;32mdef\u001b[0m \u001b[0mclose\u001b[0m\u001b[1;33m(\u001b[0m\u001b[0mself\u001b[0m\u001b[1;33m)\u001b[0m\u001b[1;33m:\u001b[0m\u001b[1;33m\u001b[0m\u001b[1;33m\u001b[0m\u001b[0m\n",
      "\u001b[1;32m~\\Anaconda3\\lib\\site-packages\\pandas\\io\\parsers.py\u001b[0m in \u001b[0;36m_make_engine\u001b[1;34m(self, engine)\u001b[0m\n\u001b[0;32m   1133\u001b[0m     \u001b[1;32mdef\u001b[0m \u001b[0m_make_engine\u001b[0m\u001b[1;33m(\u001b[0m\u001b[0mself\u001b[0m\u001b[1;33m,\u001b[0m \u001b[0mengine\u001b[0m\u001b[1;33m=\u001b[0m\u001b[1;34m\"c\"\u001b[0m\u001b[1;33m)\u001b[0m\u001b[1;33m:\u001b[0m\u001b[1;33m\u001b[0m\u001b[1;33m\u001b[0m\u001b[0m\n\u001b[0;32m   1134\u001b[0m         \u001b[1;32mif\u001b[0m \u001b[0mengine\u001b[0m \u001b[1;33m==\u001b[0m \u001b[1;34m\"c\"\u001b[0m\u001b[1;33m:\u001b[0m\u001b[1;33m\u001b[0m\u001b[1;33m\u001b[0m\u001b[0m\n\u001b[1;32m-> 1135\u001b[1;33m             \u001b[0mself\u001b[0m\u001b[1;33m.\u001b[0m\u001b[0m_engine\u001b[0m \u001b[1;33m=\u001b[0m \u001b[0mCParserWrapper\u001b[0m\u001b[1;33m(\u001b[0m\u001b[0mself\u001b[0m\u001b[1;33m.\u001b[0m\u001b[0mf\u001b[0m\u001b[1;33m,\u001b[0m \u001b[1;33m**\u001b[0m\u001b[0mself\u001b[0m\u001b[1;33m.\u001b[0m\u001b[0moptions\u001b[0m\u001b[1;33m)\u001b[0m\u001b[1;33m\u001b[0m\u001b[1;33m\u001b[0m\u001b[0m\n\u001b[0m\u001b[0;32m   1136\u001b[0m         \u001b[1;32melse\u001b[0m\u001b[1;33m:\u001b[0m\u001b[1;33m\u001b[0m\u001b[1;33m\u001b[0m\u001b[0m\n\u001b[0;32m   1137\u001b[0m             \u001b[1;32mif\u001b[0m \u001b[0mengine\u001b[0m \u001b[1;33m==\u001b[0m \u001b[1;34m\"python\"\u001b[0m\u001b[1;33m:\u001b[0m\u001b[1;33m\u001b[0m\u001b[1;33m\u001b[0m\u001b[0m\n",
      "\u001b[1;32m~\\Anaconda3\\lib\\site-packages\\pandas\\io\\parsers.py\u001b[0m in \u001b[0;36m__init__\u001b[1;34m(self, src, **kwds)\u001b[0m\n\u001b[0;32m   1915\u001b[0m         \u001b[0mkwds\u001b[0m\u001b[1;33m[\u001b[0m\u001b[1;34m\"usecols\"\u001b[0m\u001b[1;33m]\u001b[0m \u001b[1;33m=\u001b[0m \u001b[0mself\u001b[0m\u001b[1;33m.\u001b[0m\u001b[0musecols\u001b[0m\u001b[1;33m\u001b[0m\u001b[1;33m\u001b[0m\u001b[0m\n\u001b[0;32m   1916\u001b[0m \u001b[1;33m\u001b[0m\u001b[0m\n\u001b[1;32m-> 1917\u001b[1;33m         \u001b[0mself\u001b[0m\u001b[1;33m.\u001b[0m\u001b[0m_reader\u001b[0m \u001b[1;33m=\u001b[0m \u001b[0mparsers\u001b[0m\u001b[1;33m.\u001b[0m\u001b[0mTextReader\u001b[0m\u001b[1;33m(\u001b[0m\u001b[0msrc\u001b[0m\u001b[1;33m,\u001b[0m \u001b[1;33m**\u001b[0m\u001b[0mkwds\u001b[0m\u001b[1;33m)\u001b[0m\u001b[1;33m\u001b[0m\u001b[1;33m\u001b[0m\u001b[0m\n\u001b[0m\u001b[0;32m   1918\u001b[0m         \u001b[0mself\u001b[0m\u001b[1;33m.\u001b[0m\u001b[0munnamed_cols\u001b[0m \u001b[1;33m=\u001b[0m \u001b[0mself\u001b[0m\u001b[1;33m.\u001b[0m\u001b[0m_reader\u001b[0m\u001b[1;33m.\u001b[0m\u001b[0munnamed_cols\u001b[0m\u001b[1;33m\u001b[0m\u001b[1;33m\u001b[0m\u001b[0m\n\u001b[0;32m   1919\u001b[0m \u001b[1;33m\u001b[0m\u001b[0m\n",
      "\u001b[1;32mpandas\\_libs\\parsers.pyx\u001b[0m in \u001b[0;36mpandas._libs.parsers.TextReader.__cinit__\u001b[1;34m()\u001b[0m\n",
      "\u001b[1;32mpandas\\_libs\\parsers.pyx\u001b[0m in \u001b[0;36mpandas._libs.parsers.TextReader._setup_parser_source\u001b[1;34m()\u001b[0m\n",
      "\u001b[1;31mFileNotFoundError\u001b[0m: [Errno 2] File b'tests.csv' does not exist: b'tests.csv'"
     ]
    }
   ],
   "source": [
    "data_columns = [\"test1\", \"test2\"]\n",
    "target_column = \"passed\"\n",
    "df = pd.read_csv(\"tests.csv\")\n",
    "X, Y = df[data_columns].values, df[target_column]\n",
    "print('Training set: X={}, y={}'.format(X.shape, Y.shape))"
   ]
  },
  {
   "cell_type": "code",
   "execution_count": null,
   "metadata": {},
   "outputs": [],
   "source": [
    "plot_data(X, Y)"
   ]
  },
  {
   "cell_type": "code",
   "execution_count": 9,
   "metadata": {},
   "outputs": [],
   "source": [
    "cls = NeuralNet((40,),normalize = True, learning_rate = 0.5, num_iter = 9000)"
   ]
  },
  {
   "cell_type": "code",
   "execution_count": 2,
   "metadata": {},
   "outputs": [
    {
     "ename": "NameError",
     "evalue": "name 'cls' is not defined",
     "output_type": "error",
     "traceback": [
      "\u001b[1;31m---------------------------------------------------------------------------\u001b[0m",
      "\u001b[1;31mNameError\u001b[0m                                 Traceback (most recent call last)",
      "\u001b[1;32m<ipython-input-2-46f0560fca2c>\u001b[0m in \u001b[0;36m<module>\u001b[1;34m\u001b[0m\n\u001b[1;32m----> 1\u001b[1;33m \u001b[0mcls\u001b[0m\u001b[1;33m.\u001b[0m\u001b[0mfit\u001b[0m\u001b[1;33m(\u001b[0m\u001b[0mX\u001b[0m\u001b[1;33m,\u001b[0m \u001b[0mY\u001b[0m\u001b[1;33m.\u001b[0m\u001b[0mvalues\u001b[0m\u001b[1;33m.\u001b[0m\u001b[0mreshape\u001b[0m\u001b[1;33m(\u001b[0m\u001b[1;33m(\u001b[0m\u001b[0mdf\u001b[0m\u001b[1;33m.\u001b[0m\u001b[0mshape\u001b[0m\u001b[1;33m[\u001b[0m\u001b[1;36m0\u001b[0m\u001b[1;33m]\u001b[0m\u001b[1;33m,\u001b[0m \u001b[1;36m1\u001b[0m\u001b[1;33m)\u001b[0m\u001b[1;33m)\u001b[0m\u001b[1;33m,\u001b[0m \u001b[1;36m10e-15\u001b[0m\u001b[1;33m)\u001b[0m\u001b[1;33m\u001b[0m\u001b[1;33m\u001b[0m\u001b[0m\n\u001b[0m",
      "\u001b[1;31mNameError\u001b[0m: name 'cls' is not defined"
     ]
    }
   ],
   "source": [
    "cls.fit(X, Y.values.reshape((df.shape[0], 1)), 10e-15)"
   ]
  },
  {
   "cell_type": "code",
   "execution_count": 93,
   "metadata": {
    "scrolled": true
   },
   "outputs": [
    {
     "name": "stdout",
     "output_type": "stream",
     "text": [
      "{'W1': array([[ 0.20678751,  0.04112589],\n",
      "       [ 0.63459127, -0.15512337],\n",
      "       [ 0.51614322, -0.09631706],\n",
      "       [ 1.04543558, -1.74312833],\n",
      "       [ 0.21078523,  0.0389858 ],\n",
      "       [ 0.52623659, -0.103795  ],\n",
      "       [ 0.34607108, -0.03035147],\n",
      "       [ 4.46776165,  1.08075605],\n",
      "       [ 0.51231817, -0.13700477],\n",
      "       [ 0.48722892, -0.08689235],\n",
      "       [ 0.45036193, -0.07395111],\n",
      "       [ 0.55773401, -0.03611429],\n",
      "       [ 0.59532229,  0.01619636],\n",
      "       [-4.31885607, -1.07005596],\n",
      "       [ 2.04620241,  5.22185676],\n",
      "       [ 0.32657216, -0.06595777],\n",
      "       [-0.24467738,  0.72175391],\n",
      "       [ 0.62216463,  3.17819884],\n",
      "       [ 0.57291047, -0.12303807],\n",
      "       [ 0.35001857, -0.06331173],\n",
      "       [ 0.47691786, -0.08426503],\n",
      "       [ 0.24679102,  0.01960776],\n",
      "       [-0.11424787,  0.8782344 ],\n",
      "       [ 0.04753353,  0.09594148],\n",
      "       [ 0.39950855, -0.11531128],\n",
      "       [-1.22412453, -0.10564563],\n",
      "       [ 1.08605126, -2.07033569],\n",
      "       [ 0.26184669,  0.01166017],\n",
      "       [-2.35766073,  2.53830505],\n",
      "       [ 0.44361943, -0.06647058],\n",
      "       [ 0.59739978, -0.1323382 ],\n",
      "       [ 0.45157076, -0.07330906],\n",
      "       [ 1.09349069,  0.16422216],\n",
      "       [ 4.18381233,  3.20174245],\n",
      "       [ 0.38740442, -0.05476205],\n",
      "       [ 0.32680325, -0.07196145],\n",
      "       [ 0.3240311 , -0.03601594],\n",
      "       [-0.65533072, -1.82378934],\n",
      "       [ 0.49170002, -0.09426577],\n",
      "       [-1.01608099, -0.19999197]]), 'b1': array([[-0.08494614],\n",
      "       [-0.29015244],\n",
      "       [-0.21371724],\n",
      "       [ 3.84402715],\n",
      "       [-0.08186151],\n",
      "       [-0.22023048],\n",
      "       [-0.12944016],\n",
      "       [ 4.08133061],\n",
      "       [-0.12022203],\n",
      "       [-0.18863308],\n",
      "       [-0.1888972 ],\n",
      "       [ 0.51360404],\n",
      "       [ 0.6201121 ],\n",
      "       [-3.88049621],\n",
      "       [ 4.51922572],\n",
      "       [ 0.0311209 ],\n",
      "       [-0.91019831],\n",
      "       [-5.19194089],\n",
      "       [-0.24978939],\n",
      "       [-0.02905942],\n",
      "       [-0.19017936],\n",
      "       [-0.09524698],\n",
      "       [-0.64829051],\n",
      "       [ 0.07207947],\n",
      "       [ 0.17529804],\n",
      "       [-3.27646808],\n",
      "       [ 3.91023185],\n",
      "       [-0.11103137],\n",
      "       [ 5.57936764],\n",
      "       [-0.16940248],\n",
      "       [-0.26792722],\n",
      "       [-0.17661229],\n",
      "       [ 2.78461236],\n",
      "       [-6.00212252],\n",
      "       [-0.10745452],\n",
      "       [ 0.10404004],\n",
      "       [-0.05122594],\n",
      "       [-5.0477898 ],\n",
      "       [-0.19550707],\n",
      "       [-2.48033519]]), 'W2': array([[-0.87810812, -0.92983312, -0.75308154,  3.84082611, -0.87246654,\n",
      "        -0.83071445, -0.88112952,  4.83220623, -0.59311478, -0.7230508 ,\n",
      "        -0.88977429,  0.08626818,  0.20425433, -5.11916077,  6.6943707 ,\n",
      "        -0.4977346 , -1.46847356, -6.24904796, -0.83706079, -0.56514239,\n",
      "        -0.82544027, -0.87692876, -1.39320232, -0.87145678, -0.30025975,\n",
      "        -3.73286524,  4.07595485, -0.87192785,  6.91291989, -0.73195279,\n",
      "        -0.83126798, -0.8161462 ,  2.68872239, -9.98237261, -0.65003647,\n",
      "        -0.40687977, -0.60557568, -7.42304137, -0.86919649, -2.81438361]]), 'b2': array([[-1.55069626]])}\n"
     ]
    }
   ],
   "source": [
    "print(cls.parameters)"
   ]
  },
  {
   "cell_type": "code",
   "execution_count": 94,
   "metadata": {},
   "outputs": [
    {
     "name": "stdout",
     "output_type": "stream",
     "text": [
      "[[0.60208819 0.89555067 0.08059289 0.06203999 0.04897394 0.87124966\n",
      "  0.04618744 0.20837321 0.67081108 0.95411302 0.99996184 0.32163224\n",
      "  0.31303027 0.01242101 0.90108939 0.11044275 0.82298067 0.97478585\n",
      "  0.97374744 0.07964129 0.99999803 0.83343079 0.93024886 0.00699215\n",
      "  0.35296504 0.99338286 0.21813157 0.09389006 0.49152382 0.95064338\n",
      "  0.99956984 0.56326513 0.29906782 0.99255159 0.01899438 0.37156414\n",
      "  0.34794359 0.03698904 0.99999992 0.08571679 0.00673111 0.51524919\n",
      "  0.00114946 0.11125517 0.23611866 0.98354471 0.06588254 0.03938932\n",
      "  0.1387093  0.01707725 0.85622036 0.03374841 0.99869305 0.00127321\n",
      "  0.4429567  0.00656753 0.00772982 0.87436972 0.5310595  0.81218486\n",
      "  0.59762475 0.99978418 0.00513338 0.54890062 0.99888044 0.98392641\n",
      "  0.01225539 0.10566328 0.43042779 0.01788766 0.99989532 0.84948205\n",
      "  0.99908754 0.90315566 0.78785164 0.99999248 0.3289156  0.89250217\n",
      "  0.45585233 0.75072545 0.09140104 0.99999673 0.99997303 0.45226202\n",
      "  0.20309675 0.69447888 0.00803711 0.00629492 0.49639949 0.01457298\n",
      "  0.09337446 0.98258068 0.99818452 0.02887388 0.33406043 0.0067789\n",
      "  0.9995444  0.09762597 0.12013557 0.65274195 0.99982697 0.99994217\n",
      "  0.79860937 0.0435272  0.02478094 0.99898996 0.0705833  0.51299595\n",
      "  0.76035197 0.99866144 0.08751856 0.91058522 0.04344174 0.99948564\n",
      "  0.15813358 0.96620443 0.23563342 0.25211278]]\n"
     ]
    },
    {
     "data": {
      "text/plain": [
       "array([[6.02088189e-01, 3.97911811e-01],\n",
       "       [8.95550672e-01, 1.04449328e-01],\n",
       "       [8.05928903e-02, 9.19407110e-01],\n",
       "       [6.20399920e-02, 9.37960008e-01],\n",
       "       [4.89739435e-02, 9.51026057e-01],\n",
       "       [8.71249662e-01, 1.28750338e-01],\n",
       "       [4.61874396e-02, 9.53812560e-01],\n",
       "       [2.08373207e-01, 7.91626793e-01],\n",
       "       [6.70811083e-01, 3.29188917e-01],\n",
       "       [9.54113018e-01, 4.58869824e-02],\n",
       "       [9.99961844e-01, 3.81557132e-05],\n",
       "       [3.21632240e-01, 6.78367760e-01],\n",
       "       [3.13030269e-01, 6.86969731e-01],\n",
       "       [1.24210110e-02, 9.87578989e-01],\n",
       "       [9.01089390e-01, 9.89106103e-02],\n",
       "       [1.10442750e-01, 8.89557250e-01],\n",
       "       [8.22980674e-01, 1.77019326e-01],\n",
       "       [9.74785853e-01, 2.52141474e-02],\n",
       "       [9.73747442e-01, 2.62525584e-02],\n",
       "       [7.96412908e-02, 9.20358709e-01],\n",
       "       [9.99998034e-01, 1.96646485e-06],\n",
       "       [8.33430790e-01, 1.66569210e-01],\n",
       "       [9.30248861e-01, 6.97511394e-02],\n",
       "       [6.99215276e-03, 9.93007847e-01],\n",
       "       [3.52965045e-01, 6.47034955e-01],\n",
       "       [9.93382859e-01, 6.61714150e-03],\n",
       "       [2.18131571e-01, 7.81868429e-01],\n",
       "       [9.38900584e-02, 9.06109942e-01],\n",
       "       [4.91523821e-01, 5.08476179e-01],\n",
       "       [9.50643383e-01, 4.93566167e-02],\n",
       "       [9.99569839e-01, 4.30160929e-04],\n",
       "       [5.63265128e-01, 4.36734872e-01],\n",
       "       [2.99067824e-01, 7.00932176e-01],\n",
       "       [9.92551585e-01, 7.44841462e-03],\n",
       "       [1.89943815e-02, 9.81005618e-01],\n",
       "       [3.71564144e-01, 6.28435856e-01],\n",
       "       [3.47943591e-01, 6.52056409e-01],\n",
       "       [3.69890376e-02, 9.63010962e-01],\n",
       "       [9.99999923e-01, 7.65135421e-08],\n",
       "       [8.57167932e-02, 9.14283207e-01],\n",
       "       [6.73111476e-03, 9.93268885e-01],\n",
       "       [5.15249192e-01, 4.84750808e-01],\n",
       "       [1.14945660e-03, 9.98850543e-01],\n",
       "       [1.11255167e-01, 8.88744833e-01],\n",
       "       [2.36118656e-01, 7.63881344e-01],\n",
       "       [9.83544710e-01, 1.64552904e-02],\n",
       "       [6.58825375e-02, 9.34117463e-01],\n",
       "       [3.93893168e-02, 9.60610683e-01],\n",
       "       [1.38709300e-01, 8.61290700e-01],\n",
       "       [1.70772542e-02, 9.82922746e-01],\n",
       "       [8.56220361e-01, 1.43779639e-01],\n",
       "       [3.37484055e-02, 9.66251594e-01],\n",
       "       [9.98693048e-01, 1.30695204e-03],\n",
       "       [1.27321478e-03, 9.98726785e-01],\n",
       "       [4.42956700e-01, 5.57043300e-01],\n",
       "       [6.56753198e-03, 9.93432468e-01],\n",
       "       [7.72981538e-03, 9.92270185e-01],\n",
       "       [8.74369723e-01, 1.25630277e-01],\n",
       "       [5.31059500e-01, 4.68940500e-01],\n",
       "       [8.12184860e-01, 1.87815140e-01],\n",
       "       [5.97624745e-01, 4.02375255e-01],\n",
       "       [9.99784180e-01, 2.15819511e-04],\n",
       "       [5.13337773e-03, 9.94866622e-01],\n",
       "       [5.48900623e-01, 4.51099377e-01],\n",
       "       [9.98880439e-01, 1.11956112e-03],\n",
       "       [9.83926413e-01, 1.60735870e-02],\n",
       "       [1.22553897e-02, 9.87744610e-01],\n",
       "       [1.05663285e-01, 8.94336715e-01],\n",
       "       [4.30427790e-01, 5.69572210e-01],\n",
       "       [1.78876594e-02, 9.82112341e-01],\n",
       "       [9.99895316e-01, 1.04684376e-04],\n",
       "       [8.49482048e-01, 1.50517952e-01],\n",
       "       [9.99087543e-01, 9.12456811e-04],\n",
       "       [9.03155656e-01, 9.68443444e-02],\n",
       "       [7.87851638e-01, 2.12148362e-01],\n",
       "       [9.99992482e-01, 7.51812445e-06],\n",
       "       [3.28915599e-01, 6.71084401e-01],\n",
       "       [8.92502167e-01, 1.07497833e-01],\n",
       "       [4.55852325e-01, 5.44147675e-01],\n",
       "       [7.50725450e-01, 2.49274550e-01],\n",
       "       [9.14010351e-02, 9.08598965e-01],\n",
       "       [9.99996730e-01, 3.26986610e-06],\n",
       "       [9.99973033e-01, 2.69668151e-05],\n",
       "       [4.52262025e-01, 5.47737975e-01],\n",
       "       [2.03096751e-01, 7.96903249e-01],\n",
       "       [6.94478876e-01, 3.05521124e-01],\n",
       "       [8.03711342e-03, 9.91962887e-01],\n",
       "       [6.29491972e-03, 9.93705080e-01],\n",
       "       [4.96399494e-01, 5.03600506e-01],\n",
       "       [1.45729832e-02, 9.85427017e-01],\n",
       "       [9.33744596e-02, 9.06625540e-01],\n",
       "       [9.82580682e-01, 1.74193181e-02],\n",
       "       [9.98184524e-01, 1.81547561e-03],\n",
       "       [2.88738779e-02, 9.71126122e-01],\n",
       "       [3.34060430e-01, 6.65939570e-01],\n",
       "       [6.77890024e-03, 9.93221100e-01],\n",
       "       [9.99544400e-01, 4.55599929e-04],\n",
       "       [9.76259685e-02, 9.02374031e-01],\n",
       "       [1.20135566e-01, 8.79864434e-01],\n",
       "       [6.52741951e-01, 3.47258049e-01],\n",
       "       [9.99826970e-01, 1.73029864e-04],\n",
       "       [9.99942170e-01, 5.78296215e-05],\n",
       "       [7.98609365e-01, 2.01390635e-01],\n",
       "       [4.35271978e-02, 9.56472802e-01],\n",
       "       [2.47809363e-02, 9.75219064e-01],\n",
       "       [9.98989958e-01, 1.01004217e-03],\n",
       "       [7.05832978e-02, 9.29416702e-01],\n",
       "       [5.12995946e-01, 4.87004054e-01],\n",
       "       [7.60351967e-01, 2.39648033e-01],\n",
       "       [9.98661439e-01, 1.33856055e-03],\n",
       "       [8.75185577e-02, 9.12481442e-01],\n",
       "       [9.10585222e-01, 8.94147785e-02],\n",
       "       [4.34417443e-02, 9.56558256e-01],\n",
       "       [9.99485639e-01, 5.14360629e-04],\n",
       "       [1.58133581e-01, 8.41866419e-01],\n",
       "       [9.66204427e-01, 3.37955731e-02],\n",
       "       [2.35633418e-01, 7.64366582e-01],\n",
       "       [2.52112778e-01, 7.47887222e-01]])"
      ]
     },
     "execution_count": 94,
     "metadata": {},
     "output_type": "execute_result"
    }
   ],
   "source": [
    "Y_prob = cls.predict_proba(X)\n",
    "Y_prob"
   ]
  },
  {
   "cell_type": "code",
   "execution_count": 95,
   "metadata": {},
   "outputs": [
    {
     "name": "stdout",
     "output_type": "stream",
     "text": [
      "[[0.60208819 0.89555067 0.08059289 0.06203999 0.04897394 0.87124966\n",
      "  0.04618744 0.20837321 0.67081108 0.95411302 0.99996184 0.32163224\n",
      "  0.31303027 0.01242101 0.90108939 0.11044275 0.82298067 0.97478585\n",
      "  0.97374744 0.07964129 0.99999803 0.83343079 0.93024886 0.00699215\n",
      "  0.35296504 0.99338286 0.21813157 0.09389006 0.49152382 0.95064338\n",
      "  0.99956984 0.56326513 0.29906782 0.99255159 0.01899438 0.37156414\n",
      "  0.34794359 0.03698904 0.99999992 0.08571679 0.00673111 0.51524919\n",
      "  0.00114946 0.11125517 0.23611866 0.98354471 0.06588254 0.03938932\n",
      "  0.1387093  0.01707725 0.85622036 0.03374841 0.99869305 0.00127321\n",
      "  0.4429567  0.00656753 0.00772982 0.87436972 0.5310595  0.81218486\n",
      "  0.59762475 0.99978418 0.00513338 0.54890062 0.99888044 0.98392641\n",
      "  0.01225539 0.10566328 0.43042779 0.01788766 0.99989532 0.84948205\n",
      "  0.99908754 0.90315566 0.78785164 0.99999248 0.3289156  0.89250217\n",
      "  0.45585233 0.75072545 0.09140104 0.99999673 0.99997303 0.45226202\n",
      "  0.20309675 0.69447888 0.00803711 0.00629492 0.49639949 0.01457298\n",
      "  0.09337446 0.98258068 0.99818452 0.02887388 0.33406043 0.0067789\n",
      "  0.9995444  0.09762597 0.12013557 0.65274195 0.99982697 0.99994217\n",
      "  0.79860937 0.0435272  0.02478094 0.99898996 0.0705833  0.51299595\n",
      "  0.76035197 0.99866144 0.08751856 0.91058522 0.04344174 0.99948564\n",
      "  0.15813358 0.96620443 0.23563342 0.25211278]]\n"
     ]
    },
    {
     "data": {
      "text/plain": [
       "array([1, 1, 0, 0, 0, 1, 0, 0, 1, 1, 1, 0, 0, 0, 1, 0, 1, 1, 1, 0, 1, 1,\n",
       "       1, 0, 0, 1, 0, 0, 0, 1, 1, 1, 0, 1, 0, 0, 0, 0, 1, 0, 0, 1, 0, 0,\n",
       "       0, 1, 0, 0, 0, 0, 1, 0, 1, 0, 0, 0, 0, 1, 1, 1, 1, 1, 0, 1, 1, 1,\n",
       "       0, 0, 0, 0, 1, 1, 1, 1, 1, 1, 0, 1, 0, 1, 0, 1, 1, 0, 0, 1, 0, 0,\n",
       "       0, 0, 0, 1, 1, 0, 0, 0, 1, 0, 0, 1, 1, 1, 1, 0, 0, 1, 0, 1, 1, 1,\n",
       "       0, 1, 0, 1, 0, 1, 0, 0])"
      ]
     },
     "execution_count": 95,
     "metadata": {},
     "output_type": "execute_result"
    }
   ],
   "source": [
    "Y_hat = cls.predict(X)\n",
    "Y_hat"
   ]
  },
  {
   "cell_type": "code",
   "execution_count": 96,
   "metadata": {},
   "outputs": [
    {
     "data": {
      "text/plain": [
       "0.864406779661017"
      ]
     },
     "execution_count": 96,
     "metadata": {},
     "output_type": "execute_result"
    }
   ],
   "source": [
    "accuracy_score(Y, Y_hat)"
   ]
  },
  {
   "cell_type": "code",
   "execution_count": 97,
   "metadata": {},
   "outputs": [
    {
     "name": "stdout",
     "output_type": "stream",
     "text": [
      "[[0.00030147 0.00031085 0.00032165 ... 0.00228823 0.00229953 0.00229953]]\n"
     ]
    },
    {
     "data": {
      "image/png": "[encoded data removed]",
      "text/plain": [
       "<Figure size 432x288 with 1 Axes>"
      ]
     },
     "metadata": {
      "needs_background": "light"
     },
     "output_type": "display_data"
    }
   ],
   "source": [
    "plot_data(X, Y)\n",
    "plot_surface(cls, X[:, 0], X[:, 1])"
   ]
  },
  {
   "cell_type": "markdown",
   "metadata": {},
   "source": [
    "Зверніть увагу на границю прийняття рішення. Модель старається побудувати складну криву, що може свідчити про її перетренування. Порівняйте отримані результати з класом з sklearn. Спробуйте додати нові шари для нашого класу та порівняти результати тоді. Поекспериментуйте з гіперпараметрами для обох класів."
   ]
  },
  {
   "cell_type": "code",
   "execution_count": 99,
   "metadata": {},
   "outputs": [],
   "source": [
    "from sklearn.neural_network import MLPClassifier\n",
    "clf = MLPClassifier(hidden_layer_sizes = (40,), max_iter = 10000, activation = 'relu', solver = 'sgd', learning_rate_init = 0.01, learning_rate = 'constant')"
   ]
  },
  {
   "cell_type": "code",
   "execution_count": 100,
   "metadata": {},
   "outputs": [
    {
     "data": {
      "text/plain": [
       "MLPClassifier(activation='relu', alpha=0.0001, batch_size='auto', beta_1=0.9,\n",
       "              beta_2=0.999, early_stopping=False, epsilon=1e-08,\n",
       "              hidden_layer_sizes=(40,), learning_rate='constant',\n",
       "              learning_rate_init=0.01, max_iter=10000, momentum=0.9,\n",
       "              n_iter_no_change=10, nesterovs_momentum=True, power_t=0.5,\n",
       "              random_state=None, shuffle=True, solver='sgd', tol=0.0001,\n",
       "              validation_fraction=0.1, verbose=False, warm_start=False)"
      ]
     },
     "execution_count": 100,
     "metadata": {},
     "output_type": "execute_result"
    }
   ],
   "source": [
    "clf.fit(X, Y)"
   ]
  },
  {
   "cell_type": "code",
   "execution_count": 101,
   "metadata": {},
   "outputs": [
    {
     "data": {
      "image/png": "[encoded data removed]",
      "text/plain": [
       "<Figure size 432x288 with 1 Axes>"
      ]
     },
     "metadata": {
      "needs_background": "light"
     },
     "output_type": "display_data"
    }
   ],
   "source": [
    "plot_data(X, Y)\n",
    "plot_surface(clf, X[:, 0], X[:, 1])"
   ]
  },
  {
   "cell_type": "code",
   "execution_count": 102,
   "metadata": {},
   "outputs": [
    {
     "data": {
      "text/plain": [
       "0.847457627118644"
      ]
     },
     "execution_count": 102,
     "metadata": {},
     "output_type": "execute_result"
    }
   ],
   "source": [
    "accuracy_score(Y, clf.predict(X))"
   ]
  },
  {
   "cell_type": "code",
   "execution_count": null,
   "metadata": {
    "collapsed": true
   },
   "outputs": [],
   "source": []
  }
 ],
 "metadata": {
  "anaconda-cloud": {},
  "kernelspec": {
   "display_name": "Python 3",
   "language": "python",
   "name": "python3"
  },
  "language_info": {
   "codemirror_mode": {
    "name": "ipython",
    "version": 3
   },
   "file_extension": ".py",
   "mimetype": "text/x-python",
   "name": "python",
   "nbconvert_exporter": "python",
   "pygments_lexer": "ipython3",
   "version": "3.7.4"
  }
 },
 "nbformat": 4,
 "nbformat_minor": 1
}
